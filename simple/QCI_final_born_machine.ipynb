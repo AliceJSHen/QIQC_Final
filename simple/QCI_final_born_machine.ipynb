{
 "cells": [
  {
   "cell_type": "code",
   "execution_count": 1,
   "id": "858b196f",
   "metadata": {},
   "outputs": [
    {
     "data": {
      "image/png": "[encoded data removed]",
      "text/plain": [
       "<Figure size 287.294x200.667 with 1 Axes>"
      ]
     },
     "execution_count": 1,
     "metadata": {},
     "output_type": "execute_result"
    }
   ],
   "source": [
    "from qiskit import QuantumCircuit\n",
    "from qiskit.quantum_info import SparsePauliOp\n",
    "from qiskit.transpiler.preset_passmanagers import generate_preset_pass_manager\n",
    "\n",
    " \n",
    "# Create a new circuit with two qubits\n",
    "qc = QuantumCircuit(2)\n",
    " \n",
    "# Add a Hadamard gate to qubit 0\n",
    "qc.h(0)\n",
    " \n",
    "# Perform a controlled-X gate on qubit 1, controlled by qubit 0\n",
    "qc.cx(0, 1)\n",
    " \n",
    "# Return a drawing of the circuit using MatPlotLib (\"mpl\"). This is the\n",
    "# last line of the cell, so the drawing appears in the cell output.\n",
    "# Remove the \"mpl\" argument to get a text drawing.\n",
    "qc.draw(\"mpl\")"
   ]
  },
  {
   "cell_type": "code",
   "execution_count": 2,
   "id": "2d8ee3ba",
   "metadata": {},
   "outputs": [],
   "source": [
    "from qiskit import Aer, QuantumCircuit, transpile, execute\n",
    "from qiskit.circuit import Parameter\n",
    "import numpy as np\n",
    "from scipy.optimize import minimize"
   ]
  },
  {
   "cell_type": "code",
   "execution_count": 3,
   "id": "cb2ae78d",
   "metadata": {},
   "outputs": [],
   "source": [
    "####d=1 layer####\n",
    "# Step 1: Define the QCBM circuit\n",
    "def qcbm_circuit(params, num_qubits):\n",
    "    qc = QuantumCircuit(num_qubits)\n",
    "    # Apply parameterized rotations and entangling gates\n",
    "    idx = 0\n",
    "    for q in range(num_qubits):\n",
    "        qc.rz(params[idx], q)\n",
    "        qc.rx(params[idx+1], q)\n",
    "        qc.rz(params[idx+2], q)\n",
    "        idx += 3\n",
    "    for q in range(num_qubits - 1):\n",
    "        qc.cx(q, q + 1)\n",
    "    return qc"
   ]
  },
  {
   "cell_type": "code",
   "execution_count": 4,
   "id": "e27ee75c",
   "metadata": {},
   "outputs": [],
   "source": [
    "# Step 2: Define the loss function\n",
    "def loss_function(params, num_qubits, target_distribution):\n",
    "    # Generate the QCBM circuit\n",
    "    qc = qcbm_circuit(params, num_qubits)\n",
    "    qc.measure_all()\n",
    "    \n",
    "    # Simulate the circuit\n",
    "    simulator = Aer.get_backend('qasm_simulator')\n",
    "    qc = transpile(qc, simulator)\n",
    "    result = execute(qc, backend=simulator, shots=1000).result()\n",
    "    counts = result.get_counts()\n",
    "    \n",
    "    # Convert counts to probabilities\n",
    "    generated_distribution = {k: v / 1000 for k, v in counts.items()}\n",
    "    \n",
    "    # Calculate KL divergence (or another metric) between target and generated distributions\n",
    "    kl_divergence = 0\n",
    "    for bitstring, target_prob in target_distribution.items():\n",
    "        generated_prob = generated_distribution.get(bitstring, 1e-10)\n",
    "        kl_divergence += target_prob * np.log(target_prob / generated_prob)\n",
    "    \n",
    "    return kl_divergence"
   ]
  },
  {
   "cell_type": "code",
   "execution_count": 5,
   "id": "01067914",
   "metadata": {},
   "outputs": [],
   "source": [
    "# Step 3: Training the QCBM\n",
    "num_qubits = 3\n",
    "num_params = num_qubits * 3\n",
    "initial_params = np.random.uniform(0, 2 * np.pi, num_params)\n",
    "\n",
    "# Define target distribution (e.g., target state is |110⟩)\n",
    "target_distribution = {'110': 0.8, '001': 0.2}\n",
    "\n",
    "result = minimize(loss_function, initial_params, args=(num_qubits, target_distribution), method='COBYLA')\n",
    "\n",
    "# Optimized parameters\n",
    "optimized_params = result.x"
   ]
  },
  {
   "cell_type": "code",
   "execution_count": 6,
   "id": "c307260d",
   "metadata": {},
   "outputs": [
    {
     "data": {
      "image/png": "[encoded data removed]",
      "text/plain": [
       "<Figure size 914.831x367.889 with 1 Axes>"
      ]
     },
     "execution_count": 6,
     "metadata": {},
     "output_type": "execute_result"
    }
   ],
   "source": [
    "# Step 4: Generate samples using trained QCBM\n",
    "trained_qcbm = qcbm_circuit(optimized_params, num_qubits)\n",
    "trained_qcbm.measure_all()\n",
    "trained_qcbm.draw(output=\"mpl\")"
   ]
  },
  {
   "cell_type": "code",
   "execution_count": 7,
   "id": "acb08260",
   "metadata": {},
   "outputs": [
    {
     "name": "stdout",
     "output_type": "stream",
     "text": [
      "Generated Distribution: {'001': 155, '000': 1, '010': 4, '110': 840}\n"
     ]
    }
   ],
   "source": [
    "simulator = Aer.get_backend('qasm_simulator')\n",
    "trained_qcbm = transpile(trained_qcbm, simulator)\n",
    "result = execute(trained_qcbm, backend=simulator, shots=1000).result()\n",
    "counts = result.get_counts()\n",
    "\n",
    "print(\"Generated Distribution:\", counts)"
   ]
  },
  {
   "cell_type": "code",
   "execution_count": 8,
   "id": "b516dbc4",
   "metadata": {},
   "outputs": [],
   "source": [
    "###Gradient Descent###\n",
    "from qiskit import Aer, QuantumCircuit, transpile, execute\n",
    "from qiskit.circuit import Parameter\n",
    "import numpy as np\n",
    "\n",
    "def loss_function(params, num_qubits, target_distribution):\n",
    "    qc = qcbm_circuit(params, num_qubits)\n",
    "    qc.measure_all()\n",
    "\n",
    "    simulator = Aer.get_backend('qasm_simulator')\n",
    "    qc = transpile(qc, simulator)\n",
    "    result = execute(qc, backend=simulator, shots=1000).result()\n",
    "    counts = result.get_counts()\n",
    "\n",
    "    # Normalize counts to probabilities\n",
    "    generated_distribution = {k: v / 1000 for k, v in counts.items()}\n",
    "\n",
    "    # Calculate KL divergence\n",
    "    kl_divergence = 0\n",
    "    for bitstring, target_prob in target_distribution.items():\n",
    "        generated_prob = generated_distribution.get(bitstring, 1e-10)\n",
    "        kl_divergence += target_prob * np.log(target_prob / generated_prob)\n",
    "\n",
    "    return kl_divergence\n"
   ]
  },
  {
   "cell_type": "code",
   "execution_count": 9,
   "id": "1b814248",
   "metadata": {},
   "outputs": [],
   "source": [
    "def gradient_computer(params,params_shift,num_qubits, target_distribution):\n",
    "    qc_a = qcbm_circuit(params, num_qubits)\n",
    "    qc_a.measure_all()\n",
    "\n",
    "    simulator = Aer.get_backend('qasm_simulator')\n",
    "    qc_a = transpile(qc_a, simulator)\n",
    "    result_a = execute(qc_a, backend=simulator, shots=1000).result()\n",
    "    counts_a = result.get_counts()\n",
    "    \n",
    "    # Normalize counts to probabilities\n",
    "    generated_distribution_a = {k: v / 1000 for k, v in counts_a.items()}\n",
    "    \n",
    "    qc_b = qcbm_circuit(params_shift, num_qubits)\n",
    "    qc_b.measure_all()\n",
    "\n",
    "    simulator = Aer.get_backend('qasm_simulator')\n",
    "    qc_b = transpile(qc_b, simulator)\n",
    "    result_b = execute(qc_b, backend=simulator, shots=1000).result()\n",
    "    counts_b = result_b.get_counts()\n",
    "\n",
    "    # Normalize counts to probabilities\n",
    "    generated_distribution_b = {k: v / 1000 for k, v in counts_b.items()}\n",
    "    \n",
    "    gradient_component=0\n",
    "    for bitstring, target_prob in target_distribution.items():\n",
    "        generated_prob_a = generated_distribution_a.get(bitstring, 1e-10)\n",
    "        generated_prob_b = generated_distribution_b.get(bitstring, 1e-10)\n",
    "        gradient_component -=  target_prob /generated_prob_a*generated_prob_b\n",
    "        \n",
    "    return gradient_component"
   ]
  },
  {
   "cell_type": "code",
   "execution_count": 10,
   "id": "6da46e68",
   "metadata": {},
   "outputs": [],
   "source": [
    "def compute_gradients(params, num_qubits, target_distribution):\n",
    "    gradients = np.zeros_like(params)\n",
    "    shift = np.pi / 2  # Parameter shift value\n",
    "\n",
    "    for i in range(len(params)):\n",
    "        # Shift parameter up\n",
    "        params_shifted_up = np.copy(params)\n",
    "        params_shifted_up[i] += shift\n",
    "        loss_up = gradient_computer(params,params_shifted_up, num_qubits, target_distribution)\n",
    "\n",
    "        # Shift parameter down\n",
    "        params_shifted_down = np.copy(params)\n",
    "        params_shifted_down[i] -= shift\n",
    "        loss_down = gradient_computer(params, params_shifted_down, num_qubits, target_distribution)\n",
    "\n",
    "        # Compute gradient\n",
    "        gradients[i] = (loss_up - loss_down)\n",
    "\n",
    "    return gradients\n"
   ]
  },
  {
   "cell_type": "code",
   "execution_count": 11,
   "id": "6a17220b",
   "metadata": {},
   "outputs": [],
   "source": [
    "def gradient_descent(initial_params, num_qubits, target_distribution, learning_rate=0.1, max_iters=100):\n",
    "    params = np.copy(initial_params)\n",
    "\n",
    "    for iteration in range(max_iters):\n",
    "        # Compute gradients\n",
    "        gradients = compute_gradients(params, num_qubits, target_distribution)\n",
    "\n",
    "        # Update parameters\n",
    "        params -= learning_rate * gradients\n",
    "\n",
    "        # Optional: Print progress\n",
    "        loss = loss_function(params, num_qubits, target_distribution)\n",
    "        print(f\"Iteration {iteration + 1}: Loss = {loss}\")\n",
    "        if loss<0.1:\n",
    "            break\n",
    "    return params"
   ]
  },
  {
   "cell_type": "code",
   "execution_count": 12,
   "id": "90f93072",
   "metadata": {},
   "outputs": [
    {
     "name": "stdout",
     "output_type": "stream",
     "text": [
      "Iteration 1: Loss = 5.5284630245094615\n",
      "Iteration 2: Loss = 5.5284630245094615\n",
      "Iteration 3: Loss = 8.343421655688333\n",
      "Iteration 4: Loss = 5.119802525496668\n",
      "Iteration 5: Loss = 5.298317366548036\n",
      "Iteration 6: Loss = 5.078594908814415\n",
      "Iteration 7: Loss = 5.389833588397472\n",
      "Iteration 8: Loss = 4.649573193574974\n",
      "Iteration 9: Loss = 3.545336862946234\n",
      "Iteration 10: Loss = 4.167149054718433\n",
      "Iteration 11: Loss = 4.216763933362731\n",
      "Iteration 12: Loss = 3.509775452889567\n",
      "Iteration 13: Loss = 3.47572776135453\n",
      "Iteration 14: Loss = 3.705873419315955\n",
      "Iteration 15: Loss = 3.2740712759875263\n",
      "Iteration 16: Loss = 3.155185078644494\n",
      "Iteration 17: Loss = 2.7437493779063935\n",
      "Iteration 18: Loss = 2.5640073536316246\n",
      "Iteration 19: Loss = 2.3860975066919483\n",
      "Iteration 20: Loss = 2.252987374731781\n",
      "Iteration 21: Loss = 2.0400773602141955\n",
      "Iteration 22: Loss = 2.026110498862946\n",
      "Iteration 23: Loss = 1.8476427757752052\n",
      "Iteration 24: Loss = 1.5588577960774097\n",
      "Iteration 25: Loss = 1.3392820519876703\n",
      "Iteration 26: Loss = 1.2074788447768965\n",
      "Iteration 27: Loss = 1.1686191086580506\n",
      "Iteration 28: Loss = 0.9793593266186049\n",
      "Iteration 29: Loss = 0.8719453250386718\n",
      "Iteration 30: Loss = 0.7422403619943216\n",
      "Iteration 31: Loss = 0.6907136482362889\n",
      "Iteration 32: Loss = 0.5504853260294099\n",
      "Iteration 33: Loss = 0.49169570199248164\n",
      "Iteration 34: Loss = 0.44245914791527213\n",
      "Iteration 35: Loss = 0.37821181221241174\n",
      "Iteration 36: Loss = 0.32705791386413\n",
      "Iteration 37: Loss = 0.2824292036012881\n",
      "Iteration 38: Loss = 0.25145566249255724\n",
      "Iteration 39: Loss = 0.23913568253577655\n",
      "Iteration 40: Loss = 0.18493404864704627\n",
      "Iteration 41: Loss = 0.18241785176568978\n",
      "Iteration 42: Loss = 0.17021155336321\n",
      "Iteration 43: Loss = 0.17283011997742742\n",
      "Iteration 44: Loss = 0.16764475441158627\n",
      "Iteration 45: Loss = 0.1890628655102482\n",
      "Iteration 46: Loss = 0.1544328359277506\n",
      "Iteration 47: Loss = 0.2074769967071158\n",
      "Iteration 48: Loss = 0.23001844251630327\n",
      "Iteration 49: Loss = 0.21747440380981614\n",
      "Iteration 50: Loss = 0.2238960879995207\n",
      "Iteration 51: Loss = 0.27594941826880043\n",
      "Iteration 52: Loss = 0.30548766620461915\n",
      "Iteration 53: Loss = 0.3096623458657298\n",
      "Iteration 54: Loss = 0.30567124449081606\n",
      "Iteration 55: Loss = 0.3240167464742486\n",
      "Iteration 56: Loss = 0.3558567923118592\n",
      "Iteration 57: Loss = 0.4122465692822458\n",
      "Iteration 58: Loss = 0.48886660122085235\n",
      "Iteration 59: Loss = 0.48886660122085235\n",
      "Iteration 60: Loss = 0.5061925376096946\n",
      "Iteration 61: Loss = 0.5136315797230212\n",
      "Iteration 62: Loss = 0.5388913854344635\n",
      "Iteration 63: Loss = 0.5320208230923742\n",
      "Iteration 64: Loss = 0.5969776988335489\n",
      "Iteration 65: Loss = 0.6693758969661119\n",
      "Iteration 66: Loss = 0.7276113053358471\n",
      "Iteration 67: Loss = 0.7246607403969799\n",
      "Iteration 68: Loss = 0.8585359706660513\n",
      "Iteration 69: Loss = 0.8096352281628574\n",
      "Iteration 70: Loss = 0.8782992171476542\n",
      "Iteration 71: Loss = 1.0396723116085473\n",
      "Iteration 72: Loss = 1.0005334248894158\n",
      "Iteration 73: Loss = 0.9910721671616255\n",
      "Iteration 74: Loss = 1.0296869015918013\n",
      "Iteration 75: Loss = 1.1305871313068296\n",
      "Iteration 76: Loss = 1.0971911587445635\n",
      "Iteration 77: Loss = 1.1305871313068296\n",
      "Iteration 78: Loss = 1.1715707595264597\n",
      "Iteration 79: Loss = 1.136304033770733\n",
      "Iteration 80: Loss = 1.4361962313949734\n",
      "Iteration 81: Loss = 1.3549998350766177\n",
      "Iteration 82: Loss = 1.4026643534235312\n",
      "Iteration 83: Loss = 1.5566767493809572\n",
      "Iteration 84: Loss = 1.6194136136738653\n",
      "Iteration 85: Loss = 1.5175379795084487\n",
      "Iteration 86: Loss = 1.7243084178830388\n",
      "Iteration 87: Loss = 1.7119232934606932\n",
      "Iteration 88: Loss = 1.6303872060481293\n",
      "Iteration 89: Loss = 1.906442054182515\n",
      "Iteration 90: Loss = 1.8604595059650364\n",
      "Iteration 91: Loss = 2.082862635260424\n",
      "Iteration 92: Loss = 2.1234810375296993\n",
      "Iteration 93: Loss = 1.92239380444637\n",
      "Iteration 94: Loss = 2.0633169871038155\n",
      "Iteration 95: Loss = 2.365718086411698\n",
      "Iteration 96: Loss = 2.1663194457569523\n",
      "Iteration 97: Loss = 2.2597177157488524\n",
      "Iteration 98: Loss = 2.188648785984621\n",
      "Iteration 99: Loss = 2.1234810375296993\n",
      "Iteration 100: Loss = 2.284910169477679\n",
      "Optimized Parameters: [3.24525567 3.48667345 3.18207479 4.63960712 3.13473617 0.6226141\n",
      " 4.23844775 6.28143541 0.49072813]\n"
     ]
    }
   ],
   "source": [
    "# Define parameters\n",
    "num_qubits = 3\n",
    "num_params = num_qubits * 3\n",
    "initial_params = np.random.uniform(0, 2 * np.pi, num_params)\n",
    "\n",
    "# Define target distribution\n",
    "target_distribution = {'110': 0.8, '001': 0.2}\n",
    "\n",
    "# Train using gradient descent\n",
    "optimized_params = gradient_descent(\n",
    "    initial_params, \n",
    "    num_qubits, \n",
    "    target_distribution, \n",
    "    learning_rate=0.1, \n",
    "    max_iters=100\n",
    "    \n",
    ")\n",
    "\n",
    "print(\"Optimized Parameters:\", optimized_params)\n"
   ]
  },
  {
   "cell_type": "code",
   "execution_count": 14,
   "id": "b27a4ed3",
   "metadata": {},
   "outputs": [
    {
     "data": {
      "image/png": "[encoded data removed]",
      "text/plain": [
       "<Figure size 914.831x367.889 with 1 Axes>"
      ]
     },
     "execution_count": 14,
     "metadata": {},
     "output_type": "execute_result"
    }
   ],
   "source": [
    "trained_qcbm_gd = qcbm_circuit(optimized_params, num_qubits)\n",
    "trained_qcbm_gd.measure_all()\n",
    "trained_qcbm_gd.draw(output=\"mpl\")"
   ]
  },
  {
   "cell_type": "code",
   "execution_count": 15,
   "id": "7b83560a",
   "metadata": {},
   "outputs": [
    {
     "name": "stdout",
     "output_type": "stream",
     "text": [
      "Generated Distribution: {'001': 174, '110': 826}\n"
     ]
    }
   ],
   "source": [
    "result = execute(trained_qcbm, backend=simulator, shots=1000).result()\n",
    "counts = result.get_counts()\n",
    "\n",
    "print(\"Generated Distribution:\", counts)"
   ]
  },
  {
   "cell_type": "code",
   "execution_count": null,
   "id": "e7b834c8",
   "metadata": {},
   "outputs": [],
   "source": []
  }
 ],
 "metadata": {
  "kernelspec": {
   "display_name": "Python 3 (ipykernel)",
   "language": "python",
   "name": "python3"
  },
  "language_info": {
   "codemirror_mode": {
    "name": "ipython",
    "version": 3
   },
   "file_extension": ".py",
   "mimetype": "text/x-python",
   "name": "python",
   "nbconvert_exporter": "python",
   "pygments_lexer": "ipython3",
   "version": "3.10.4"
  }
 },
 "nbformat": 4,
 "nbformat_minor": 5
}
